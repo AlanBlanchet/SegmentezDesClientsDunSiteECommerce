{
  "cells": [
    {
      "cell_type": "code",
      "execution_count": null,
      "metadata": {},
      "outputs": [],
      "source": [
        "import pandas as pd\n",
        "from yellowbrick.cluster import KElbowVisualizer, SilhouetteVisualizer\n",
        "from pathlib import Path\n",
        "import matplotlib.pyplot as plt\n",
        "import plotly.express as px\n",
        "from sklearn.decomposition import PCA, KernelPCA\n",
        "import seaborn as sns\n",
        "from sklearn.cluster import KMeans, DBSCAN\n",
        "from sklearn.manifold import TSNE\n",
        "from sklearn.preprocessing import LabelEncoder, StandardScaler\n",
        "import umap\n",
        "from src.view import view_clusters, view_projection\n",
        "import numpy as np\n",
        "import squarify\n",
        "\n",
        "plt.style.use(\"ggplot\")"
      ]
    },
    {
      "cell_type": "code",
      "execution_count": null,
      "metadata": {},
      "outputs": [],
      "source": [
        "processed = Path(\"data/processed\")\n",
        "\n",
        "customers = pd.read_csv(processed / \"unique_customer_orders2.csv\")\n",
        "customers.head()"
      ]
    },
    {
      "attachments": {},
      "cell_type": "markdown",
      "metadata": {},
      "source": [
        "On va déjà plotter la RFM pour voir s'il y a une différence par rapport à avant"
      ]
    },
    {
      "cell_type": "code",
      "execution_count": null,
      "metadata": {},
      "outputs": [],
      "source": [
        "RFM = [\"recency\", \"amount\", \"number_of_orders\"]"
      ]
    },
    {
      "cell_type": "code",
      "execution_count": null,
      "metadata": {},
      "outputs": [],
      "source": [
        "customers[RFM][\"recency\"]"
      ]
    },
    {
      "cell_type": "code",
      "execution_count": null,
      "metadata": {},
      "outputs": [],
      "source": [
        "customers_rfm = customers[RFM]\n",
        "\n",
        "\n",
        "fig = px.scatter_3d(x=customers_rfm[RFM[0]], y=customers_rfm[RFM[1]], z=customers_rfm[RFM[2]], opacity=0.3, color=customers[\"wealthy\"])\n",
        "fig.update_layout(\n",
        "    width=1400,\n",
        "    height=800,\n",
        "    xaxis_title=\"AAA\",\n",
        "    scene={f\"{a}axis\": {\"title\":{\"text\":f\"{t} ({a})\"}} for a,t in zip([\"x\",\"y\",\"z\"], RFM)}\n",
        ")"
      ]
    },
    {
      "attachments": {},
      "cell_type": "markdown",
      "metadata": {},
      "source": [
        "On peut donc essayer de rajouter des features au fur et à mesure parmis celles extraites\n",
        "\n",
        "On va commencer par scaler et encoder nos données si besoin"
      ]
    },
    {
      "cell_type": "code",
      "execution_count": null,
      "metadata": {},
      "outputs": [],
      "source": [
        "encoder = LabelEncoder()\n",
        "\n",
        "customers[\"frequent_cat\"] = encoder.fit_transform(customers[\"frequent_cat\"])\n",
        "customers.head()"
      ]
    },
    {
      "cell_type": "code",
      "execution_count": null,
      "metadata": {},
      "outputs": [],
      "source": [
        "customers[[\"amount\"]].describe()"
      ]
    },
    {
      "cell_type": "code",
      "execution_count": null,
      "metadata": {},
      "outputs": [],
      "source": [
        "customers[[\"recency\"]].describe()"
      ]
    },
    {
      "cell_type": "code",
      "execution_count": null,
      "metadata": {},
      "outputs": [],
      "source": [
        "plt.title(\"Pairplot for some features and RFM\")\n",
        "sns.pairplot(customers[RFM + [\"respected_ratio\", \"estimation_error\", \"freight_value\", \"review_score\"]])"
      ]
    },
    {
      "attachments": {},
      "cell_type": "markdown",
      "metadata": {},
      "source": [
        "On peut maintenant refaire notre clusering avec les nouvelles features pour voir si elles aides à identifier des clusters.\n",
        "\n",
        "Plus tard on s'occupera de regarder les outliers."
      ]
    },
    {
      "cell_type": "code",
      "execution_count": null,
      "metadata": {},
      "outputs": [],
      "source": [
        "cols = [\"delivery_delay\", \"estimation_error\", \"number_of_orders\", \"respected_ratio\", \"lat\", \"lng\", \"freight_value\", \"price\", \"review_answer_delay\", \"review_score\", \"review_level\"]"
      ]
    },
    {
      "cell_type": "code",
      "execution_count": null,
      "metadata": {},
      "outputs": [],
      "source": [
        "X_scaled = StandardScaler().fit_transform(customers[RFM + cols])\n",
        "X_scaled.shape"
      ]
    },
    {
      "cell_type": "code",
      "execution_count": null,
      "metadata": {},
      "outputs": [],
      "source": [
        "models =[\n",
        "    PCA(random_state=0),\n",
        "    KernelPCA(kernel=\"rbf\", random_state=0),\n",
        "    *[TSNE(perplexity=p, n_jobs=-1, random_state=0) for p in np.logspace(-1, 2, num=4)*3]\n",
        "]"
      ]
    },
    {
      "cell_type": "code",
      "execution_count": null,
      "metadata": {},
      "outputs": [],
      "source": [
        "view_projection(models, X_scaled, hue=customers[\"wealthy\"], p=0.04)"
      ]
    },
    {
      "cell_type": "code",
      "execution_count": null,
      "metadata": {},
      "outputs": [],
      "source": [
        "view_projection(models, X_scaled, hue=customers[\"frequent_cat\"], p=0.04)"
      ]
    },
    {
      "cell_type": "code",
      "execution_count": null,
      "metadata": {},
      "outputs": [],
      "source": [
        "customers.describe()"
      ]
    },
    {
      "cell_type": "code",
      "execution_count": null,
      "metadata": {},
      "outputs": [],
      "source": [
        "X_scaled = StandardScaler().fit_transform(customers[RFM + [\"respected_ratio\", \"freight_value\", \"price\", \"review_score\", \"review_level\", \"estimation_error\", \"delivery_delay\", \"number_of_orders\"]])"
      ]
    },
    {
      "cell_type": "code",
      "execution_count": null,
      "metadata": {},
      "outputs": [],
      "source": [
        "view_projection(models, X_scaled, hue=customers[\"wealthy\"], p=0.04)"
      ]
    },
    {
      "cell_type": "code",
      "execution_count": null,
      "metadata": {},
      "outputs": [],
      "source": [
        "view_projection([*[umap.UMAP(n_neighbors=n, random_state=0) for n in range(2,20, 4)]], X_scaled, hue=customers[\"wealthy\"], p=0.05)"
      ]
    },
    {
      "cell_type": "code",
      "execution_count": null,
      "metadata": {},
      "outputs": [],
      "source": [
        "view_projection([TSNE(n_iter=2000, perplexity=30, random_state=0), TSNE(n_iter=2000, perplexity=300, random_state=0)], X_scaled, hue=customers[\"wealthy\"], p=0.05)"
      ]
    },
    {
      "cell_type": "code",
      "execution_count": null,
      "metadata": {},
      "outputs": [],
      "source": [
        "favorite_projectors = [\n",
        "    TSNE(n_iter=1200, perplexity=30, random_state=0, n_jobs=-1),\n",
        "    umap.UMAP(n_neighbors=16, random_state=0, n_jobs=-1)\n",
        "]"
      ]
    },
    {
      "cell_type": "code",
      "execution_count": null,
      "metadata": {},
      "outputs": [],
      "source": [
        "for projector in favorite_projectors:\n",
        "    y = projector.fit_transform(X_scaled[:5000])\n",
        "\n",
        "    visualizer = SilhouetteVisualizer(KMeans(n_init=\"auto\"), k=(4,20), timings=False)\n",
        "    visualizer.fit(y)\n",
        "    visualizer.poof()"
      ]
    },
    {
      "cell_type": "code",
      "execution_count": null,
      "metadata": {},
      "outputs": [],
      "source": [
        "for projector in favorite_projectors:\n",
        "    print(type(projector).__name__)\n",
        "\n",
        "    y = projector.fit_transform(X_scaled[:1000])\n",
        "\n",
        "    plt.figure()\n",
        "    visualizer = KElbowVisualizer(KMeans(n_init=\"auto\", random_state=0), k=(4,20), timings=False)\n",
        "    visualizer.fit(y)\n",
        "    visualizer.show()\n",
        "\n",
        "    k = visualizer.elbow_value_\n",
        "\n",
        "    model = KMeans(n_clusters=k, random_state=0)\n",
        "    labels = model.fit_predict(y)\n",
        "    \n",
        "    fig, ax = plt.subplots()\n",
        "    sns.scatterplot(x=y.T[0], y=y.T[1], hue=labels, ax=ax)"
      ]
    },
    {
      "cell_type": "code",
      "execution_count": null,
      "metadata": {},
      "outputs": [],
      "source": [
        "for projector in favorite_projectors:\n",
        "    print(type(projector).__name__)\n",
        "\n",
        "    y = projector.fit_transform(X_scaled)\n",
        "\n",
        "    plt.figure()\n",
        "    visualizer = KElbowVisualizer(KMeans(n_init=\"auto\", random_state=0), k=(4,20), timings=False, n_jobs=-1)\n",
        "    visualizer.fit(y)\n",
        "    visualizer.show()\n",
        "\n",
        "    k = visualizer.elbow_value_\n",
        "\n",
        "    model = KMeans(n_clusters=k, random_state=0)\n",
        "    labels = model.fit_predict(y)\n",
        "    \n",
        "    fig, ax = plt.subplots()\n",
        "    sns.scatterplot(x=y.T[0], y=y.T[1], hue=labels, ax=ax)"
      ]
    },
    {
      "attachments": {},
      "cell_type": "markdown",
      "metadata": {},
      "source": [
        "Je vais donc revenir aux bases et faire cela avec le moins de features possible pour rester dans un point de vue métier.\n",
        "\n",
        "Ici on peut très bien critiquer mon travail en disant qu'il y a trop de features qui brouillent les clients intéressant des non intéressants."
      ]
    },
    {
      "cell_type": "code",
      "execution_count": null,
      "metadata": {},
      "outputs": [],
      "source": [
        "customers.columns"
      ]
    },
    {
      "cell_type": "code",
      "execution_count": null,
      "metadata": {},
      "outputs": [],
      "source": [
        "# Voici les colonnes que j'ai choisis\n",
        "cols = RFM #+ [\"respected_ratio\", \"review_score\"]\n",
        "X = customers[cols]\n",
        "X_scaled = StandardScaler().fit_transform(X)"
      ]
    },
    {
      "cell_type": "code",
      "execution_count": null,
      "metadata": {},
      "outputs": [],
      "source": [
        "for projector in favorite_projectors:\n",
        "    print(type(projector).__name__)\n",
        "\n",
        "    y = projector.fit_transform(X_scaled)\n",
        "\n",
        "    plt.figure()\n",
        "    visualizer = KElbowVisualizer(KMeans(n_init=\"auto\", random_state=0), k=(2,14), timings=False, n_jobs=-1)\n",
        "    visualizer.fit(y)\n",
        "    visualizer.show()\n",
        "\n",
        "    k = visualizer.elbow_value_\n",
        "\n",
        "    model = KMeans(n_clusters=k, random_state=0)\n",
        "    labels = model.fit_predict(y)\n",
        "    \n",
        "    fig, ax = plt.subplots()\n",
        "    sns.scatterplot(x=y.T[0], y=y.T[1], hue=labels, ax=ax)"
      ]
    },
    {
      "cell_type": "code",
      "execution_count": null,
      "metadata": {},
      "outputs": [],
      "source": [
        "y = umap.UMAP(n_neighbors=3, n_components=3, random_state=0, n_jobs=-1).fit_transform(X_scaled)\n",
        "\n",
        "px.scatter_3d(x=y.T[0], y=y.T[1], z=y.T[2], opacity=0.3)"
      ]
    },
    {
      "cell_type": "code",
      "execution_count": null,
      "metadata": {},
      "outputs": [],
      "source": [
        "model = KElbowVisualizer(KMeans(random_state=0))\n",
        "model.fit(X_scaled)\n",
        "model.show()"
      ]
    },
    {
      "cell_type": "code",
      "execution_count": null,
      "metadata": {},
      "outputs": [],
      "source": [
        "model = KMeans(n_clusters=4, n_init=\"auto\")\n",
        "model.fit(X_scaled)"
      ]
    },
    {
      "cell_type": "code",
      "execution_count": null,
      "metadata": {},
      "outputs": [],
      "source": [
        "px.scatter_3d(x=X_scaled.T[0], y=X_scaled.T[1], z=X_scaled.T[2], color=model.labels_, opacity=0.3)"
      ]
    },
    {
      "attachments": {},
      "cell_type": "markdown",
      "metadata": {},
      "source": [
        "# Itération 2\n",
        "\n",
        "J'ai l'impression que certaines analyses ne servent à rien. Je vais essayer d'utiliser une méthode RFM que j'ai vu sur Kaggle qui consiste à créer à partir des données une pré-segmentation pour savoir si on doit oui ou non être préocupper par un client ce qui nous permet de connaître et différencier les bons des mauvais clients"
      ]
    },
    {
      "cell_type": "code",
      "execution_count": null,
      "metadata": {},
      "outputs": [],
      "source": [
        "customers = pd.read_csv(processed / \"unique_customer_orders3.csv\")\n",
        "customers.head()"
      ]
    },
    {
      "cell_type": "code",
      "execution_count": null,
      "metadata": {},
      "outputs": [],
      "source": [
        "customers[\"segment\"].describe()"
      ]
    },
    {
      "attachments": {},
      "cell_type": "markdown",
      "metadata": {},
      "source": [
        "On peut donc refaire les clustering intéressants mais en coloriant par la segmentation"
      ]
    },
    {
      "cell_type": "code",
      "execution_count": null,
      "metadata": {},
      "outputs": [],
      "source": [
        "customers[\"segment\"].value_counts()"
      ]
    },
    {
      "cell_type": "code",
      "execution_count": null,
      "metadata": {},
      "outputs": [],
      "source": [
        "count = customers[\"segment\"].value_counts()\n",
        "norm = count / count.sum()\n",
        "labels = pd.Series(count.index).str.cat(\" ( \" + (norm * 100).round(2).astype(str).values + \"% )\")\n",
        "squarify.plot(count, label=labels, color = ['gold', 'teal', 'steelblue', 'limegreen', 'darkorange', 'coral'])"
      ]
    },
    {
      "cell_type": "code",
      "execution_count": null,
      "metadata": {},
      "outputs": [],
      "source": [
        "X_scaled = StandardScaler().fit_transform(customers[RFM])\n",
        "X_scaled"
      ]
    },
    {
      "cell_type": "code",
      "execution_count": null,
      "metadata": {},
      "outputs": [],
      "source": [
        "view_projection(favorite_projectors, X_scaled, hue=customers[\"segment\"])"
      ]
    },
    {
      "attachments": {},
      "cell_type": "markdown",
      "metadata": {},
      "source": [
        "On remarque que les clients fidèles sont bien éparpillés dans les clusters"
      ]
    },
    {
      "attachments": {},
      "cell_type": "markdown",
      "metadata": {},
      "source": [
        "C'est déjà pas mal. Voici le résultat d'une étude du meilleur K avec KMeans"
      ]
    },
    {
      "cell_type": "code",
      "execution_count": null,
      "metadata": {},
      "outputs": [],
      "source": [
        "model = KMeans(random_state=0, n_init=\"auto\")\n",
        "\n",
        "visualizer = KElbowVisualizer(model, k=range(2,14), timings=False)\n",
        "visualizer.fit(X_scaled)\n",
        "visualizer.show();"
      ]
    },
    {
      "cell_type": "code",
      "execution_count": null,
      "metadata": {},
      "outputs": [],
      "source": [
        "customers"
      ]
    },
    {
      "cell_type": "code",
      "execution_count": null,
      "metadata": {},
      "outputs": [],
      "source": [
        "for cols in [[\"frequency\"],\n",
        "             [\"frequency\", \"freight_value\"],\n",
        "             [\"frequency\", \"review_level\", \"review_score\"],\n",
        "             [\"delivery_delay\"],\n",
        "             [\"frequency\", \"review_level\", \"review_score\", \"freight_value\", \"delivery_delay\", \"respected_ratio\"]]:\n",
        "    X_scaled = StandardScaler().fit_transform(customers[RFM + cols])\n",
        "    view_projection(favorite_projectors, X_scaled, hue=customers[\"segment\"])\n",
        "\n",
        "    plt.figure()\n",
        "    model = KMeans(random_state=0, n_init=\"auto\")\n",
        "    visualizer = KElbowVisualizer(model, k=range(2,10), timings=False)\n",
        "    visualizer.fit(X_scaled)\n",
        "    visualizer.show()"
      ]
    },
    {
      "cell_type": "code",
      "execution_count": null,
      "metadata": {},
      "outputs": [],
      "source": [
        "# colonnes sélectionnées\n",
        "data = customers\n",
        "\n",
        "cols = [\"recency\", \"amount\"]\n",
        "scaler = StandardScaler()\n",
        "X_scaled = scaler.fit_transform(data[cols])\n",
        "\n",
        "model = KMeans(n_init=\"auto\", n_clusters=4, random_state=0)\n",
        "model.fit(X_scaled)\n",
        "\n",
        "# X_umap = favorite_projectors[1].fit_transform(X_scaled)\n",
        "# plt.figure()\n",
        "# sns.scatterplot(x=X_umap.T[0],y=X_umap.T[1], hue=data[\"segment\"])\n",
        "# plt.figure()\n",
        "# sns.scatterplot(x=X_umap.T[0],y=X_umap.T[1], hue=model.labels_, palette=sns.color_palette(\"viridis\", as_cmap=True))\n",
        "\n",
        "customers_true_labels = model.labels_"
      ]
    },
    {
      "cell_type": "code",
      "execution_count": null,
      "metadata": {},
      "outputs": [],
      "source": [
        "from src.dataset import get_data_until\n",
        "from sklearn.metrics import adjusted_rand_score\n",
        "from tqdm import tqdm"
      ]
    },
    {
      "cell_type": "code",
      "execution_count": null,
      "metadata": {},
      "outputs": [],
      "source": [
        "scores = []\n",
        "\n",
        "for m in tqdm(range(1,25)):\n",
        "    # On perd des clients qu'on avait auparavant\n",
        "    data_m = get_data_until(month=m)\n",
        "\n",
        "    # Les clients correspondant dans 'customers'\n",
        "    customers_m = customers[customers.customer_unique_id.isin(data_m.customer_unique_id)]\n",
        "    customers_labels = customers_true_labels[customers_m.index]\n",
        "\n",
        "    # On transform avec le même scaler\n",
        "    X_scaled = scaler.transform(data_m[cols])\n",
        "\n",
        "    # # Plot avec umap pour comparer par rapport à la base\n",
        "    # umap = favorite_projectors[1]\n",
        "    # y = umap.fit_transform(X_scaled)\n",
        "    # plt.figure()\n",
        "    # sns.scatterplot(x=y.T[0], y=y.T[1], hue=customers_m[\"segment\"])\n",
        "\n",
        "    # # Elbow plot pour voir si on conserve notre k=4\n",
        "    # plt.figure()\n",
        "    # model = KMeans(random_state=0, n_init=\"auto\")\n",
        "    # visualizer = KElbowVisualizer(model, k=range(2,10), timings=False)\n",
        "    # visualizer.fit(X_scaled)\n",
        "    # visualizer.show()\n",
        "\n",
        "    model.fit(X_scaled)\n",
        "\n",
        "    # On récupère le score ARI\n",
        "    scores.append(adjusted_rand_score(customers_labels, model.labels_))\n",
        "\n",
        "scores"
      ]
    },
    {
      "cell_type": "code",
      "execution_count": null,
      "metadata": {},
      "outputs": [],
      "source": [
        "plt.title(\"ARI scores per month difference\")\n",
        "plt.plot(scores)"
      ]
    },
    {
      "cell_type": "code",
      "execution_count": null,
      "metadata": {},
      "outputs": [],
      "source": [
        "scores = []\n",
        "\n",
        "for d in tqdm(range(30, 90, 7)):\n",
        "    # On perd des clients qu'on avait auparavant\n",
        "    data_m = get_data_until(days=d)\n",
        "\n",
        "    # Les clients correspondant dans 'customers'\n",
        "    customers_m = customers[customers.customer_unique_id.isin(data_m.customer_unique_id)]\n",
        "    customers_labels = customers_true_labels[customers_m.index]\n",
        "\n",
        "    # On transform avec le même scaler\n",
        "    X_scaled = scaler.transform(data_m[cols])\n",
        "\n",
        "    # # Plot avec umap pour comparer par rapport à la base\n",
        "    # umap = favorite_projectors[1]\n",
        "    # y = umap.fit_transform(X_scaled)\n",
        "    # plt.figure()\n",
        "    # sns.scatterplot(x=y.T[0], y=y.T[1], hue=customers_m[\"segment\"])\n",
        "\n",
        "    # # Elbow plot pour voir si on conserve notre k=4\n",
        "    # plt.figure()\n",
        "    # model = KMeans(random_state=0, n_init=\"auto\")\n",
        "    # visualizer = KElbowVisualizer(model, k=range(2,10), timings=False)\n",
        "    # visualizer.fit(X_scaled)\n",
        "    # visualizer.show()\n",
        "\n",
        "    model.fit(X_scaled)\n",
        "\n",
        "    # On récupère le score ARI\n",
        "    scores.append((d, adjusted_rand_score(customers_labels, model.labels_)))\n",
        "\n",
        "for (d, score) in scores:\n",
        "    print(f\"{d=} ; {score=}\")"
      ]
    },
    {
      "cell_type": "code",
      "execution_count": null,
      "metadata": {},
      "outputs": [],
      "source": [
        "for (d, score) in scores:\n",
        "    print(f\"{d=} ; {score=}\")"
      ]
    },
    {
      "cell_type": "code",
      "execution_count": null,
      "metadata": {},
      "outputs": [],
      "source": [
        "get_data_until(days=65)"
      ]
    },
    {
      "cell_type": "code",
      "execution_count": null,
      "metadata": {},
      "outputs": [],
      "source": [
        "X = np.array(scores)\n",
        "days = X[:, 0]\n",
        "scores_d = X[:, 1]\n",
        "\n",
        "plt.title(\"ARI scores per day difference\")\n",
        "plt.plot(days, scores_d)"
      ]
    },
    {
      "cell_type": "code",
      "execution_count": null,
      "metadata": {},
      "outputs": [],
      "source": [
        "scores = []\n",
        "\n",
        "for d in tqdm(range(50, 65, 1)):\n",
        "    # On perd des clients qu'on avait auparavant\n",
        "    data_m = get_data_until(days=d)\n",
        "\n",
        "    # Les clients correspondant dans 'customers'\n",
        "    customers_m = customers[customers.customer_unique_id.isin(data_m.customer_unique_id)]\n",
        "    customers_labels = customers_true_labels[customers_m.index]\n",
        "\n",
        "    # On transform avec le même scaler\n",
        "    X_scaled = scaler.transform(data_m[cols])\n",
        "\n",
        "    model.fit(X_scaled)\n",
        "\n",
        "    # On récupère le score ARI\n",
        "    scores.append((d, adjusted_rand_score(customers_labels, model.labels_)))\n",
        "\n",
        "X = np.array(scores)\n",
        "days = X[:, 0]\n",
        "scores_d = X[:, 1]\n",
        "\n",
        "plt.title(\"ARI scores per day difference\")\n",
        "plt.plot(days, scores_d)"
      ]
    },
    {
      "cell_type": "code",
      "execution_count": null,
      "metadata": {},
      "outputs": [],
      "source": [
        "RM = [\"recency\", \"amount\"]"
      ]
    },
    {
      "cell_type": "code",
      "execution_count": null,
      "metadata": {},
      "outputs": [],
      "source": [
        "X2 = get_data_until(days=56)"
      ]
    },
    {
      "cell_type": "code",
      "execution_count": null,
      "metadata": {},
      "outputs": [],
      "source": [
        "X1 = customers[customers.customer_unique_id.isin(X2.customer_unique_id)].reset_index(drop=True)"
      ]
    },
    {
      "cell_type": "code",
      "execution_count": null,
      "metadata": {},
      "outputs": [],
      "source": [
        "X2"
      ]
    },
    {
      "cell_type": "code",
      "execution_count": null,
      "metadata": {},
      "outputs": [],
      "source": [
        "X1"
      ]
    },
    {
      "cell_type": "code",
      "execution_count": null,
      "metadata": {},
      "outputs": [],
      "source": [
        "(X1.customer_unique_id == X2.customer_unique_id).value_counts()"
      ]
    },
    {
      "cell_type": "code",
      "execution_count": null,
      "metadata": {},
      "outputs": [],
      "source": [
        "X1[RM].describe()"
      ]
    },
    {
      "cell_type": "code",
      "execution_count": null,
      "metadata": {},
      "outputs": [],
      "source": [
        "X2[RM].describe()"
      ]
    },
    {
      "cell_type": "code",
      "execution_count": null,
      "metadata": {},
      "outputs": [],
      "source": [
        "X1_std = scaler.transform(X1[RM])\n",
        "X2_std = scaler.transform(X2[RM])"
      ]
    },
    {
      "cell_type": "code",
      "execution_count": null,
      "metadata": {},
      "outputs": [],
      "source": [
        "X1_std"
      ]
    },
    {
      "cell_type": "code",
      "execution_count": null,
      "metadata": {},
      "outputs": [],
      "source": [
        "X2_std"
      ]
    },
    {
      "cell_type": "code",
      "execution_count": null,
      "metadata": {},
      "outputs": [],
      "source": [
        "model.fit(X1_std)\n",
        "LX1 = model.labels_\n",
        "model.fit(X2_std)\n",
        "LX2 = model.labels_\n",
        "\n",
        "adjusted_rand_score(LX1, LX2)"
      ]
    },
    {
      "cell_type": "code",
      "execution_count": null,
      "metadata": {},
      "outputs": [],
      "source": [
        "pca = PCA(n_components=2, random_state=0)"
      ]
    },
    {
      "cell_type": "code",
      "execution_count": null,
      "metadata": {},
      "outputs": [],
      "source": [
        "pca.fit(X1_std)"
      ]
    },
    {
      "cell_type": "code",
      "execution_count": null,
      "metadata": {},
      "outputs": [],
      "source": [
        "X1_pca = pca.transform(X1_std)\n",
        "X2_pca = pca.transform(X2_std)"
      ]
    },
    {
      "cell_type": "code",
      "execution_count": null,
      "metadata": {},
      "outputs": [],
      "source": [
        "sns.scatterplot(x=X1_pca.T[0], y=X1_pca.T[1], hue=LX1)"
      ]
    },
    {
      "cell_type": "code",
      "execution_count": null,
      "metadata": {},
      "outputs": [],
      "source": [
        "sns.scatterplot(x=X2_pca.T[0], y=X2_pca.T[1], hue=LX2)"
      ]
    },
    {
      "cell_type": "code",
      "execution_count": null,
      "metadata": {},
      "outputs": [],
      "source": [
        "customers.columns"
      ]
    },
    {
      "cell_type": "code",
      "execution_count": null,
      "metadata": {},
      "outputs": [],
      "source": [
        "cols = ['recency', 'delivery_delay', 'estimation_error',\n",
        "       'number_of_orders', 'respected_ratio', 'amount', 'lat', 'lng',\n",
        "       'frequency', 'freight_value', 'review_answer_delay',\n",
        "       'review_score', 'review_level']\n",
        "\n",
        "scaler = StandardScaler()"
      ]
    },
    {
      "cell_type": "code",
      "execution_count": null,
      "metadata": {},
      "outputs": [],
      "source": [
        "corr = customers[cols].corr()\n",
        "\n",
        "sns.heatmap(corr)"
      ]
    },
    {
      "cell_type": "code",
      "execution_count": null,
      "metadata": {},
      "outputs": [],
      "source": [
        "X = customers[cols]\n",
        "X_std = scaler.fit_transform(X)"
      ]
    },
    {
      "cell_type": "code",
      "execution_count": null,
      "metadata": {},
      "outputs": [],
      "source": [
        "# pca = PCA(n_components=6)\n",
        "# X_pca = pca.fit_transform(X_std)\n",
        "# print(\"Reduced dimension\")\n",
        "projector = TSNE(n_components=2, n_jobs=-1, random_state=0, n_iter_without_progress=200, perplexity=100)\n",
        "projector.fit(X_std)"
      ]
    },
    {
      "cell_type": "code",
      "execution_count": null,
      "metadata": {},
      "outputs": [],
      "source": [
        "projector.embedding_"
      ]
    },
    {
      "cell_type": "code",
      "execution_count": null,
      "metadata": {},
      "outputs": [],
      "source": [
        "y = projector.embedding_.T"
      ]
    },
    {
      "cell_type": "code",
      "execution_count": null,
      "metadata": {},
      "outputs": [],
      "source": [
        "sns.scatterplot(x=y[0], y=y[1], hue=customers[\"segment\"])"
      ]
    },
    {
      "cell_type": "code",
      "execution_count": null,
      "metadata": {},
      "outputs": [],
      "source": [
        "customers.columns"
      ]
    },
    {
      "cell_type": "code",
      "execution_count": null,
      "metadata": {},
      "outputs": [],
      "source": [
        "cols = ['amount', 'frequency', 'estimation_error',\n",
        "       'delivery_delay', 'review_level', '']"
      ]
    },
    {
      "cell_type": "code",
      "execution_count": null,
      "metadata": {},
      "outputs": [],
      "source": [
        "X_std = scaler.fit_transform(customers.loc[:10000, cols])"
      ]
    },
    {
      "cell_type": "code",
      "execution_count": null,
      "metadata": {},
      "outputs": [],
      "source": [
        "viz = KElbowVisualizer(KMeans(random_state=0, n_init=\"auto\"), k=(2,12), timings=False)\n",
        "viz.fit(X_std)\n",
        "viz.show();"
      ]
    },
    {
      "cell_type": "code",
      "execution_count": null,
      "metadata": {},
      "outputs": [],
      "source": [
        "model = KMeans(n_clusters=5, random_state=0, n_init=\"auto\")\n",
        "model.fit(X_std)\n",
        "labels = model.labels_"
      ]
    },
    {
      "cell_type": "code",
      "execution_count": null,
      "metadata": {},
      "outputs": [],
      "source": [
        "#projector = TSNE(n_components=2, n_jobs=-1, random_state=0, perplexity=60, learning_rate=100)\n",
        "projector = TSNE(n_components=2, n_jobs=-1, random_state=0, perplexity=50, learning_rate=100)\n",
        "projector.fit(X_std)\n",
        "y = projector.embedding_.T"
      ]
    },
    {
      "cell_type": "code",
      "execution_count": null,
      "metadata": {},
      "outputs": [],
      "source": [
        "#sns.scatterplot(x=y[0], y=y[1], hue=labels)\n",
        "sns.scatterplot(x=y[0], y=y[1], hue=customers.loc[:10000, \"segment\"])"
      ]
    },
    {
      "cell_type": "code",
      "execution_count": null,
      "metadata": {},
      "outputs": [],
      "source": [
        "pca = PCA(n_components=2)\n",
        "X_pca = pca.fit_transform(X_std)\n",
        "y = X_pca.T\n",
        "sns.scatterplot(x=y[0], y=y[1], hue=customers.loc[:10000, \"segment\"])"
      ]
    }
  ],
  "metadata": {
    "celltoolbar": "Tags",
    "kernelspec": {
      "display_name": "Python 3 (ipykernel)",
      "language": "python",
      "name": "python3"
    },
    "language_info": {
      "codemirror_mode": {
        "name": "ipython",
        "version": 3
      },
      "file_extension": ".py",
      "mimetype": "text/x-python",
      "name": "python",
      "nbconvert_exporter": "python",
      "pygments_lexer": "ipython3",
      "version": "3.9.16"
    }
  },
  "nbformat": 4,
  "nbformat_minor": 2
}
