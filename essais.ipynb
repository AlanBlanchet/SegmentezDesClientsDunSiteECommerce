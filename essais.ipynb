{
 "cells": [
  {
   "cell_type": "code",
   "execution_count": null,
   "metadata": {},
   "outputs": [],
   "source": [
    "import pandas as pd\n",
    "from yellowbrick.cluster import KElbowVisualizer, SilhouetteVisualizer\n",
    "from pathlib import Path\n",
    "import matplotlib.pyplot as plt\n",
    "import plotly.express as px\n",
    "from sklearn.decomposition import PCA\n",
    "import seaborn as sns\n",
    "\n",
    "plt.style.use(\"ggplot\")"
   ]
  },
  {
   "cell_type": "code",
   "execution_count": null,
   "metadata": {},
   "outputs": [],
   "source": [
    "processed = Path(\"data/processed\")\n",
    "\n",
    "customers = pd.read_csv(processed / \"unique_customer_orders.csv\")\n",
    "customers.head()"
   ]
  },
  {
   "cell_type": "code",
   "execution_count": null,
   "metadata": {},
   "outputs": [],
   "source": [
    "customers.dtypes"
   ]
  },
  {
   "cell_type": "code",
   "execution_count": null,
   "metadata": {},
   "outputs": [],
   "source": [
    "sns.scatterplot(customers, x=\"recency\", y=\"delivery_delay\");"
   ]
  },
  {
   "cell_type": "code",
   "execution_count": null,
   "metadata": {},
   "outputs": [],
   "source": [
    "sns.scatterplot(customers, x=\"recency\", y=\"number_of_orders\");"
   ]
  },
  {
   "cell_type": "code",
   "execution_count": null,
   "metadata": {},
   "outputs": [],
   "source": [
    "customers.head()"
   ]
  },
  {
   "cell_type": "code",
   "execution_count": null,
   "metadata": {},
   "outputs": [],
   "source": [
    "# RFM columns\n",
    "RFM = [\"recency\",\"frequency\", \"amount\"]"
   ]
  },
  {
   "cell_type": "code",
   "execution_count": null,
   "metadata": {},
   "outputs": [],
   "source": [
    "from sklearn.preprocessing import StandardScaler\n",
    "\n",
    "X_scaled = StandardScaler().fit_transform(customers[RFM].values)"
   ]
  },
  {
   "cell_type": "code",
   "execution_count": null,
   "metadata": {},
   "outputs": [],
   "source": [
    "from sklearn.cluster import KMeans\n",
    "\n",
    "model = KMeans(n_init=\"auto\", random_state=0)\n",
    "visualizer = KElbowVisualizer(model, k=(4,40), timings=False)"
   ]
  },
  {
   "cell_type": "code",
   "execution_count": null,
   "metadata": {},
   "outputs": [],
   "source": [
    "visualizer.fit(X_scaled)\n",
    "visualizer.poof();"
   ]
  },
  {
   "cell_type": "code",
   "execution_count": null,
   "metadata": {},
   "outputs": [],
   "source": [
    "model = KMeans(14, n_init=\"auto\", random_state=0)"
   ]
  },
  {
   "cell_type": "code",
   "execution_count": null,
   "metadata": {},
   "outputs": [],
   "source": [
    "visualizer = SilhouetteVisualizer(model)\n",
    "\n",
    "visualizer.fit(X_scaled)\n",
    "visualizer.poof();"
   ]
  },
  {
   "cell_type": "code",
   "execution_count": null,
   "metadata": {},
   "outputs": [],
   "source": [
    "pca = PCA(n_components=2)\n",
    "X_pca = pca.fit_transform(X_scaled)\n",
    "X_pca.shape"
   ]
  },
  {
   "cell_type": "code",
   "execution_count": null,
   "metadata": {},
   "outputs": [],
   "source": [
    "model.fit(X_scaled)\n",
    "plt.figure(figsize=(16,9))\n",
    "pred_labels = model.predict(X_scaled)\n",
    "sns.scatterplot(x=X_pca.T[0], y=X_pca.T[1], alpha=1, hue=pred_labels)"
   ]
  },
  {
   "cell_type": "code",
   "execution_count": null,
   "metadata": {},
   "outputs": [],
   "source": [
    "\n",
    "px.scatter_3d(x=X_scaled[:,0], y=X_scaled[:,1], z=X_scaled[:,2], color=pred_labels, width=1500, height=1000, opacity=0.1)"
   ]
  },
  {
   "cell_type": "code",
   "execution_count": null,
   "metadata": {},
   "outputs": [],
   "source": [
    "import math\n",
    "import numpy as np\n",
    "\n",
    "watch_params = [\"gamma\", \"alpha\", \"kernel\"]\n",
    "\n",
    "def view_clustering(projectors, X, hue, p=1.):\n",
    "    n = int(X.shape[0] * p)\n",
    "\n",
    "    X, hue = X[:n], hue[:n]\n",
    "\n",
    "    max_cols = 3\n",
    "    lines = math.ceil(len(projectors) / max_cols)\n",
    "\n",
    "    fig, axs = plt.subplots(lines, min(len(projectors), max_cols), figsize=(24, lines*10))\n",
    "    fig.suptitle(f\"All model evaluations from {p*100}% of the dataset ({X.shape[0]} datapoints)\")\n",
    "\n",
    "    for model, ax in zip(projectors, np.array(axs).flatten()):\n",
    "        title = \"\"\n",
    "        for k, v in model.get_params().items():\n",
    "            if k in watch_params:\n",
    "                if title == \"\":\n",
    "                    title = \"- (\"\n",
    "                title += f\"{k}:{v} \"\n",
    "        if title != \"\":\n",
    "            title = \" \" + title.strip() + \")\"\n",
    "        ax.set_title(type(model).__name__ + title)\n",
    "        X_out = model.fit_transform(X)\n",
    "        sns.scatterplot(x=X_out.T[0], y=X_out.T[1], hue=hue, ax=ax)"
   ]
  },
  {
   "cell_type": "code",
   "execution_count": null,
   "metadata": {},
   "outputs": [],
   "source": [
    "from sklearn.decomposition import KernelPCA\n",
    "\n",
    "projectors = [\n",
    "    PCA(n_components=2),\n",
    "    *[KernelPCA(n_components=2, kernel=\"rbf\", gamma=g, n_jobs=-1) for g in np.logspace(-2,2,num=5)]\n",
    "]\n",
    "\n",
    "view_clustering(projectors, X_scaled, hue=pred_labels, p=0.1)"
   ]
  },
  {
   "attachments": {},
   "cell_type": "markdown",
   "metadata": {},
   "source": [
    "On peut maintenant utiliser cette fonction pour visualiser de différentes façons nos clusters (qui ne sont pas encore évidents).\n",
    "\n",
    "On peut maintenant ajouter d'autres données à notre KMeans puis analyser les prédictions"
   ]
  },
  {
   "cell_type": "code",
   "execution_count": null,
   "metadata": {},
   "outputs": [],
   "source": [
    "customers.head()"
   ]
  },
  {
   "cell_type": "code",
   "execution_count": null,
   "metadata": {},
   "outputs": [],
   "source": [
    "def show_elbows(features_list):\n",
    "    for features in features_list:\n",
    "        print(\"Feature visualisations : \\n\", features)\n",
    "        X_scaled = StandardScaler().fit_transform(customers[features].values)\n",
    "\n",
    "        model = KMeans(n_init=\"auto\", random_state=0)\n",
    "        visualizer = KElbowVisualizer(model, k=(4,25), timings=False)\n",
    "\n",
    "        visualizer.fit(X_scaled)\n",
    "        visualizer.poof()"
   ]
  },
  {
   "cell_type": "code",
   "execution_count": null,
   "metadata": {},
   "outputs": [],
   "source": [
    "show_elbows([\n",
    "    [*RFM],\n",
    "    [*RFM, \"delivery_delay\"],\n",
    "    [*RFM, \"estimation_error\"],\n",
    "    [*RFM, \"number_of_orders\"],\n",
    "    [*RFM, \"respected_ratio\"],\n",
    "    [*RFM, \"lat\"],\n",
    "    [*RFM, \"lng\"],\n",
    "    [*RFM, \"lat\", \"lng\"]\n",
    "])"
   ]
  }
 ],
 "metadata": {
  "kernelspec": {
   "display_name": "oc",
   "language": "python",
   "name": "python3"
  },
  "language_info": {
   "codemirror_mode": {
    "name": "ipython",
    "version": 3
   },
   "file_extension": ".py",
   "mimetype": "text/x-python",
   "name": "python",
   "nbconvert_exporter": "python",
   "pygments_lexer": "ipython3",
   "version": "3.9.16"
  },
  "orig_nbformat": 4
 },
 "nbformat": 4,
 "nbformat_minor": 2
}
