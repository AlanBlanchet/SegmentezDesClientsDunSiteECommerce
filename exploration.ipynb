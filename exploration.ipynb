{
 "cells": [
  {
   "attachments": {},
   "cell_type": "markdown",
   "metadata": {},
   "source": [
    "# Exploration"
   ]
  },
  {
   "cell_type": "code",
   "execution_count": null,
   "metadata": {},
   "outputs": [],
   "source": [
    "import pandas as pd\n",
    "import matplotlib.pyplot as plt\n",
    "from pathlib import Path\n",
    "import shutil\n",
    "from wordcloud import WordCloud\n",
    "from nltk.corpus import stopwords\n",
    "import nltk\n",
    "import seaborn as sns\n",
    "\n",
    "plt.style.use(\"ggplot\")\n"
   ]
  },
  {
   "attachments": {},
   "cell_type": "markdown",
   "metadata": {},
   "source": [
    "# Setup"
   ]
  },
  {
   "cell_type": "code",
   "execution_count": null,
   "metadata": {},
   "outputs": [],
   "source": [
    "data = Path(\"data\")\n",
    "raw = data / \"raw\"\n",
    "processed = data / \"processed\"\n",
    "\n",
    "csvs = [*data.rglob(\"*.csv\")]\n",
    "\n",
    "if not raw.exists() or not processed.exists():\n",
    "    raw.mkdir(exist_ok=True)\n",
    "    processed.mkdir(exist_ok=True)\n",
    "    for csv in csvs:\n",
    "        shutil.move(csv, raw)\n",
    "\n",
    "nltk_path = data / \".nltk\"\n",
    "\n",
    "nltk.download('stopwords', download_dir=nltk_path)\n",
    "nltk.data.path.append(nltk_path)"
   ]
  },
  {
   "attachments": {},
   "cell_type": "markdown",
   "metadata": {},
   "source": [
    "# Chargement des données\n",
    "\n",
    "On charge les données depuis le zip téléchargé depuis Kaggle"
   ]
  },
  {
   "cell_type": "code",
   "execution_count": null,
   "metadata": {},
   "outputs": [],
   "source": [
    "customers = pd.read_csv(raw / \"olist_customers_dataset.csv\")\n",
    "customers.head()\n"
   ]
  },
  {
   "cell_type": "code",
   "execution_count": null,
   "metadata": {},
   "outputs": [],
   "source": [
    "geolocations = pd.read_csv(raw / \"olist_geolocation_dataset.csv\")\n",
    "geolocations.head()\n"
   ]
  },
  {
   "cell_type": "code",
   "execution_count": null,
   "metadata": {},
   "outputs": [],
   "source": [
    "order_items = pd.read_csv(raw / \"olist_order_items_dataset.csv\")\n",
    "order_items.head()\n"
   ]
  },
  {
   "cell_type": "code",
   "execution_count": null,
   "metadata": {},
   "outputs": [],
   "source": [
    "order_payments = pd.read_csv(raw / \"olist_order_payments_dataset.csv\")\n",
    "order_payments.head()\n"
   ]
  },
  {
   "cell_type": "code",
   "execution_count": null,
   "metadata": {},
   "outputs": [],
   "source": [
    "order_reviews = pd.read_csv(raw / \"olist_order_reviews_dataset.csv\")\n",
    "order_reviews.head()\n"
   ]
  },
  {
   "cell_type": "code",
   "execution_count": null,
   "metadata": {},
   "outputs": [],
   "source": [
    "orders = pd.read_csv(raw / \"olist_orders_dataset.csv\")\n",
    "orders.head()\n"
   ]
  },
  {
   "cell_type": "code",
   "execution_count": null,
   "metadata": {},
   "outputs": [],
   "source": [
    "products = pd.read_csv(raw / \"olist_products_dataset.csv\")\n",
    "products.head()\n"
   ]
  },
  {
   "cell_type": "code",
   "execution_count": null,
   "metadata": {},
   "outputs": [],
   "source": [
    "sellers = pd.read_csv(raw / \"olist_sellers_dataset.csv\")\n",
    "sellers.head()\n"
   ]
  },
  {
   "attachments": {},
   "cell_type": "markdown",
   "metadata": {},
   "source": [
    "On n'a pas besoin du fichier `.csv` \"product_category_name_translation\""
   ]
  },
  {
   "cell_type": "code",
   "execution_count": null,
   "metadata": {},
   "outputs": [],
   "source": [
    "customers.describe(include=\"all\")\n"
   ]
  },
  {
   "cell_type": "code",
   "execution_count": null,
   "metadata": {},
   "outputs": [],
   "source": [
    "geolocations.describe(include=\"all\")\n"
   ]
  },
  {
   "cell_type": "code",
   "execution_count": null,
   "metadata": {},
   "outputs": [],
   "source": [
    "order_payments.describe(include=\"all\")\n"
   ]
  },
  {
   "cell_type": "code",
   "execution_count": null,
   "metadata": {},
   "outputs": [],
   "source": [
    "order_items.describe(include=\"all\")\n"
   ]
  },
  {
   "cell_type": "code",
   "execution_count": null,
   "metadata": {},
   "outputs": [],
   "source": [
    "order_reviews.describe(include=\"all\")\n"
   ]
  },
  {
   "cell_type": "code",
   "execution_count": null,
   "metadata": {},
   "outputs": [],
   "source": [
    "orders.describe(include=\"all\")\n"
   ]
  },
  {
   "cell_type": "code",
   "execution_count": null,
   "metadata": {},
   "outputs": [],
   "source": [
    "products.describe(include=\"all\")\n"
   ]
  },
  {
   "attachments": {},
   "cell_type": "markdown",
   "metadata": {},
   "source": [
    "Un produit qui a un poids de 0g peut exister. Mais un produit qui fait 0g et qui a une taille de 7cm je ne sais pas... Peut être qu'on doit vérifier quelque chose à ce niveau là."
   ]
  },
  {
   "cell_type": "code",
   "execution_count": null,
   "metadata": {},
   "outputs": [],
   "source": [
    "products[(products.product_weight_g == 0) | products.product_weight_g.isna()]\n"
   ]
  },
  {
   "attachments": {},
   "cell_type": "markdown",
   "metadata": {},
   "source": [
    "Je ne veux pas supprimer ces données car je n'arrive pas très bien à savoir si elles sont exactes ou non. Il semblerait que la taille de ces produits ai été saisie avec des tailles par défaut. Mais impossible d'en être sûr.\n",
    "\n",
    "De plus si je retire les lignes de la table, on aura certainement une erreur si un client a commandé un de ces produits. Retenons donc qu'il y a une possible erreur dans cette table."
   ]
  },
  {
   "cell_type": "code",
   "execution_count": null,
   "metadata": {},
   "outputs": [],
   "source": [
    "# Erreur de nommage des colonnes. C'est \"length\" et non \"lenght\"\n",
    "products.columns = products.columns.map(lambda x: x.replace(\"lenght\", \"length\"))\n",
    "products.columns\n"
   ]
  },
  {
   "cell_type": "code",
   "execution_count": null,
   "metadata": {},
   "outputs": [],
   "source": [
    "sellers.describe(include=\"all\")\n"
   ]
  },
  {
   "attachments": {},
   "cell_type": "markdown",
   "metadata": {},
   "source": [
    "# Traitements"
   ]
  },
  {
   "cell_type": "code",
   "execution_count": null,
   "metadata": {},
   "outputs": [],
   "source": [
    "customers.isna().sum()\n"
   ]
  },
  {
   "cell_type": "code",
   "execution_count": null,
   "metadata": {},
   "outputs": [],
   "source": [
    "geolocations.isna().sum()\n"
   ]
  },
  {
   "cell_type": "code",
   "execution_count": null,
   "metadata": {},
   "outputs": [],
   "source": [
    "order_payments.isna().sum()\n"
   ]
  },
  {
   "cell_type": "code",
   "execution_count": null,
   "metadata": {},
   "outputs": [],
   "source": [
    "order_items.isna().sum()\n"
   ]
  },
  {
   "cell_type": "code",
   "execution_count": null,
   "metadata": {},
   "outputs": [],
   "source": [
    "order_reviews.isna().sum()\n"
   ]
  },
  {
   "cell_type": "code",
   "execution_count": null,
   "metadata": {},
   "outputs": [],
   "source": [
    "orders.isna().sum()\n"
   ]
  },
  {
   "cell_type": "code",
   "execution_count": null,
   "metadata": {},
   "outputs": [],
   "source": [
    "products.isna().sum()\n"
   ]
  },
  {
   "cell_type": "code",
   "execution_count": null,
   "metadata": {},
   "outputs": [],
   "source": [
    "sellers.isna().sum()\n"
   ]
  },
  {
   "attachments": {},
   "cell_type": "markdown",
   "metadata": {},
   "source": [
    "Pas beaucoup de valeurs nulls dans ce dataset. On voit bien qu'un tri a été effectué.\n",
    "\n",
    "On voit qu'il y a eu des reviews pour lesquelles il n'y a pas de titre ou de messages associés. Cette information est possiblement intéressante. On pourrait même faire un feature engineering pour \"client ayant pris le temps de laisser un message\". Car évidemment on ne va pas analyser les messages de ceux-ci.\n",
    "\n",
    "On peut donner un niveau d'avis à ces personnes : \n",
    "- 0 = Pas de titre ou message\n",
    "- 1 = Titre\n",
    "- 2 = Titre et message"
   ]
  },
  {
   "cell_type": "code",
   "execution_count": null,
   "metadata": {},
   "outputs": [],
   "source": [
    "# Il y a des valeurs avec \" \" comme valeur\n",
    "order_reviews.loc[\n",
    "    order_reviews.review_comment_title == \" \", \"review_comment_title\"\n",
    "] = None\n"
   ]
  },
  {
   "cell_type": "code",
   "execution_count": null,
   "metadata": {},
   "outputs": [],
   "source": [
    "order_reviews[\"review_level\"] = order_reviews.review_comment_title.isna().replace(\n",
    "    {True: 0, False: 1}\n",
    ") + order_reviews.review_comment_message.isna().replace({True: 0, False: 1})\n",
    "order_reviews[\"review_level\"].value_counts()"
   ]
  },
  {
   "cell_type": "code",
   "execution_count": null,
   "metadata": {},
   "outputs": [],
   "source": [
    "unique = order_reviews[\"review_level\"].unique()\n",
    "sns.histplot(order_reviews[\"review_level\"], kde=False)\n",
    "\n",
    "for value in unique:\n",
    "    plt.text(value + 0.05, 2, str(value))\n",
    "\n",
    "plt.show()"
   ]
  },
  {
   "cell_type": "code",
   "execution_count": null,
   "metadata": {},
   "outputs": [],
   "source": [
    "order_reviews = order_reviews.drop(\n",
    "    columns=[\"review_comment_title\", \"review_comment_message\"]\n",
    ")\n",
    "order_reviews.head()\n"
   ]
  },
  {
   "attachments": {},
   "cell_type": "markdown",
   "metadata": {},
   "source": [
    "On peut en profiter pour effectuer un autre feature engineering sur le différence entre la date de création de la review et sa réponse"
   ]
  },
  {
   "cell_type": "code",
   "execution_count": null,
   "metadata": {},
   "outputs": [],
   "source": [
    "from datetime import datetime\n",
    "\n",
    "date_fmt = \"%Y-%m-%d %H:%M:%S\"\n",
    "to_datetime = lambda x: datetime.strptime(x, date_fmt)\n",
    "\n",
    "creation = order_reviews.review_creation_date.map(to_datetime)\n",
    "answer = order_reviews.review_answer_timestamp.map(to_datetime)\n",
    "delay = answer - creation\n",
    "# Conservons le nombre de minutes passées avant une réponse\n",
    "minutes_f = lambda x: x.total_seconds() / 60\n",
    "order_reviews[\"review_answer_delay\"] = delay.map(minutes_f)\n",
    "# On peut supprimer les autres dates car elle ne sont plus utiles pour nous. On aurait pu les utiliser pour remarquer une potentielle amélioration du traitement des retours mais ce n'est pas l'objectif ici\n",
    "order_reviews = order_reviews.drop(\n",
    "    columns=[\"review_creation_date\", \"review_answer_timestamp\"]\n",
    ")\n",
    "order_reviews.head()\n"
   ]
  },
  {
   "attachments": {},
   "cell_type": "markdown",
   "metadata": {},
   "source": [
    "Parmis les valeurs null. On remarque qu'il y a également certaines dates pour les commandes qui ne sont pas définies"
   ]
  },
  {
   "cell_type": "code",
   "execution_count": null,
   "metadata": {},
   "outputs": [],
   "source": [
    "orders[orders.order_approved_at.isna()]\n"
   ]
  },
  {
   "attachments": {},
   "cell_type": "markdown",
   "metadata": {},
   "source": [
    "J'étais curieux de savoir pourquoi certaines commandes n'avaient pas été approuvées. La raison est que les commandes ont été annulées. Je vais quand même vérifier qu'il n'y a que des commandes annulées"
   ]
  },
  {
   "cell_type": "code",
   "execution_count": null,
   "metadata": {},
   "outputs": [],
   "source": [
    "orders[orders.order_approved_at.isna()].order_status.unique()\n"
   ]
  },
  {
   "attachments": {},
   "cell_type": "markdown",
   "metadata": {},
   "source": [
    "C'est embêtant..."
   ]
  },
  {
   "cell_type": "code",
   "execution_count": null,
   "metadata": {},
   "outputs": [],
   "source": [
    "orders[orders.order_approved_at.isna() & (orders.order_status != \"canceled\")]\n"
   ]
  },
  {
   "attachments": {},
   "cell_type": "markdown",
   "metadata": {},
   "source": [
    "Je ne vais pas perdre du temps à essayer de comprendre pourquoi car je ne trouve pas cette feature si intéressante que cela pour identifier des clusters. Mais ça aurait été intéressant de savoir comment une commande peut être livrée sans être approuvée."
   ]
  },
  {
   "cell_type": "code",
   "execution_count": null,
   "metadata": {},
   "outputs": [],
   "source": [
    "# Je profite de drop la colonne approved pour également drop celle correspondant à l'arrivée chez l'expéditeur car elle n'apportera pas de plus value selon moi\n",
    "orders = orders.drop(columns=[\"order_approved_at\", \"order_delivered_carrier_date\"])\n",
    "orders.head()\n"
   ]
  },
  {
   "attachments": {},
   "cell_type": "markdown",
   "metadata": {},
   "source": [
    "On peut s'intéresser au délai de livraison d'une commande. C'est, je pense, la mesure la plus appropriée à obtenir pour identifier des clusters. Mais on a des valeurs nulls qu'on va devoir traiter avant."
   ]
  },
  {
   "cell_type": "code",
   "execution_count": null,
   "metadata": {},
   "outputs": [],
   "source": [
    "orders.order_status.value_counts()\n"
   ]
  },
  {
   "cell_type": "code",
   "execution_count": null,
   "metadata": {},
   "outputs": [],
   "source": [
    "never_delivered = orders.order_delivered_customer_date.isna()\n",
    "orders.loc[never_delivered].order_status.value_counts()\n"
   ]
  },
  {
   "attachments": {},
   "cell_type": "markdown",
   "metadata": {},
   "source": [
    "Pour plus de simplicité je propose de ne pas prendre en compte ces valeurs car il y a sûrement eu un problème avec la commande. On remarque que les valeurs pour lesquelles il n'y a pas de date de livraison sont celles qui ont un statut différent de \"delivered\" (à quelques exceptions près. Certaines commandes ont été annulées mais ont été livrées).\n",
    "\n",
    "Pour les quelques livraisons marquées comme livrées mais avec aucun date, on pourra utiliser la date estimée.\n",
    "\n",
    "Calculer une différence de date à partir des autres données est compliqué. On peut donc ignorer ces commandes."
   ]
  },
  {
   "cell_type": "code",
   "execution_count": null,
   "metadata": {},
   "outputs": [],
   "source": [
    "is_delivered = orders.order_status.isin([\"delivered\"])\n",
    "\n",
    "orders.loc[\n",
    "    never_delivered & is_delivered, \"order_delivered_customer_date\"\n",
    "] = orders.loc[never_delivered & is_delivered, \"order_estimated_delivery_date\"]\n",
    "\n",
    "orders[never_delivered].head()\n"
   ]
  },
  {
   "cell_type": "code",
   "execution_count": null,
   "metadata": {},
   "outputs": [],
   "source": [
    "orders_with_dates = orders.loc[is_delivered]\n",
    "purchase = orders_with_dates.order_purchase_timestamp.map(to_datetime)\n",
    "estimated = orders_with_dates.order_estimated_delivery_date.map(to_datetime)\n",
    "delivered = orders_with_dates.order_delivered_customer_date.map(to_datetime)\n",
    "\n",
    "orders.loc[is_delivered, \"estimation_error\"] = (delivered - estimated).map(minutes_f)\n",
    "orders.loc[is_delivered, \"delivery_delay\"] = (delivered - purchase).map(minutes_f)\n",
    "orders.head()\n"
   ]
  },
  {
   "cell_type": "code",
   "execution_count": null,
   "metadata": {},
   "outputs": [],
   "source": [
    "plt.title(\"estimation_error frequency\")\n",
    "orders.estimation_error.plot.hist();\n",
    " "
   ]
  },
  {
   "attachments": {},
   "cell_type": "markdown",
   "metadata": {},
   "source": [
    "On a des outliers. Dans ce cas c'est des commandes qui sont arrivées à destination mais très longtemps après.\n",
    "\n",
    "Ce ne sera peut être pas pratique pour faire des clusters du fait des valeurs nulls mais sait-on jamais. Ca pourrait être important au moins pour notre analyse.\n",
    "\n",
    "Si on se base sur un avis client, il n'est jamais vraiment content quand sa commande dépasse le délai prévu par l'entreprise. Ainsi ça peut être important pour avoir un avis. On peut même refaire un feature engineering pour savoir si ce délai est dépassé ou non. Ce qui nous permettra de colorier les commandes qui ne se sont pas bien passées."
   ]
  },
  {
   "cell_type": "code",
   "execution_count": null,
   "metadata": {},
   "outputs": [],
   "source": [
    "orders.loc[:, \"delay_respected\"] = orders.estimation_error <= 0\n",
    "plt.title(\"delay_respected\")\n",
    "orders.delay_respected.value_counts().plot.pie(autopct='%1.1f%%');\n"
   ]
  },
  {
   "cell_type": "code",
   "execution_count": null,
   "metadata": {},
   "outputs": [],
   "source": [
    "products.columns"
   ]
  },
  {
   "attachments": {},
   "cell_type": "markdown",
   "metadata": {},
   "source": [
    "Je ne pense pas utilser toutes les features de ce tableau"
   ]
  },
  {
   "cell_type": "code",
   "execution_count": null,
   "metadata": {},
   "outputs": [],
   "source": [
    "products = products.drop(columns=[\"product_name_length\", \"product_description_length\", \"product_weight_g\", \"product_length_cm\", \"product_height_cm\", \"product_width_cm\", \"product_photos_qty\"])\n",
    "products.head()"
   ]
  },
  {
   "attachments": {},
   "cell_type": "markdown",
   "metadata": {},
   "source": [
    "# Analyse\n",
    "\n",
    "- Sur Kaggle, avec les graphiques par défauts, on arrive à voir que la majorité des commandes se sont produites en 2018 avec 1 en 2016 et quelques unes en 2017"
   ]
  },
  {
   "attachments": {},
   "cell_type": "markdown",
   "metadata": {},
   "source": [
    "Avec la façon dont la BD est réalisée, on peut juste utiliser la table de client pour connaître le nombre de commandes d'un client. Mais on va quand même effectuer un merge avec la table orders."
   ]
  },
  {
   "cell_type": "code",
   "execution_count": null,
   "metadata": {},
   "outputs": [],
   "source": [
    "customer_orders = pd.merge(customers, orders, on=\"customer_id\")\n",
    "customer_orders.head()\n"
   ]
  },
  {
   "cell_type": "code",
   "execution_count": null,
   "metadata": {},
   "outputs": [],
   "source": [
    "number_of_orders = customer_orders.customer_unique_id.value_counts()\n",
    "number_of_orders.head()\n"
   ]
  },
  {
   "cell_type": "code",
   "execution_count": null,
   "metadata": {},
   "outputs": [],
   "source": [
    "number_of_orders.value_counts(normalize=True).sort_index()\n"
   ]
  },
  {
   "cell_type": "code",
   "execution_count": null,
   "metadata": {},
   "outputs": [],
   "source": [
    "order_count_ids = customer_orders.customer_unique_id.value_counts()\n",
    "(order_count_ids > 1).sum() / order_count_ids.count()\n"
   ]
  },
  {
   "cell_type": "code",
   "execution_count": null,
   "metadata": {},
   "outputs": [],
   "source": [
    "plt.title(\"frequency of orders above 1 for each customer\")\n",
    "(order_count_ids > 1).value_counts().plot.pie(autopct='%1.1f%%')"
   ]
  },
  {
   "attachments": {},
   "cell_type": "markdown",
   "metadata": {},
   "source": [
    "On a 3% de clients qui ont passé plus d'1 commande."
   ]
  },
  {
   "cell_type": "code",
   "execution_count": null,
   "metadata": {},
   "outputs": [],
   "source": [
    "plt.title(\"order_status amount\")\n",
    "orders.order_status.value_counts().plot.bar()\n",
    "print(orders.order_status.value_counts(normalize=True)[\"delivered\"])\n"
   ]
  },
  {
   "attachments": {},
   "cell_type": "markdown",
   "metadata": {},
   "source": [
    "97% des commandes sont livrées. Analysons un peu l'argent qui a été dépensé par les clients."
   ]
  },
  {
   "cell_type": "code",
   "execution_count": null,
   "metadata": {},
   "outputs": [],
   "source": [
    "orders_payments = pd.merge(orders, order_payments, on=\"order_id\")\n",
    "orders_payments\n"
   ]
  },
  {
   "cell_type": "code",
   "execution_count": null,
   "metadata": {},
   "outputs": [],
   "source": [
    "print(\n",
    "    f\"customer_length={len(customer_orders)}, order_payments_length={len(order_payments)}\"\n",
    ")\n"
   ]
  },
  {
   "attachments": {},
   "cell_type": "markdown",
   "metadata": {},
   "source": [
    "On a une relation de 1 à plusieurs entre les 2 tables. Un client peut payer plusieurs fois et d'après les informations de la table, de différentes façons."
   ]
  },
  {
   "cell_type": "code",
   "execution_count": null,
   "metadata": {},
   "outputs": [],
   "source": [
    "customers_orders_payments = pd.merge(customers, orders_payments, on=\"customer_id\")\n",
    "customers_orders_payments.head()\n"
   ]
  },
  {
   "cell_type": "code",
   "execution_count": null,
   "metadata": {},
   "outputs": [],
   "source": [
    "plt.title(\"Sorted order payment values\")\n",
    "customers_orders_payments.payment_value.sort_values().reset_index(drop=True).plot.line()\n"
   ]
  },
  {
   "cell_type": "code",
   "execution_count": null,
   "metadata": {},
   "outputs": [],
   "source": [
    "customers_orders_payments.count()\n"
   ]
  },
  {
   "cell_type": "code",
   "execution_count": null,
   "metadata": {},
   "outputs": [],
   "source": [
    "customers_payment_values = (\n",
    "    customers_orders_payments.groupby(\"customer_unique_id\")\n",
    "    .payment_value.agg([\"sum\", \"mean\", min, max])\n",
    "    .reset_index()\n",
    ")\n",
    "customers_payment_values.head()\n"
   ]
  },
  {
   "cell_type": "code",
   "execution_count": null,
   "metadata": {},
   "outputs": [],
   "source": [
    "plt.title(\"Sum/Mean/Min/Max payment values for each customer\")\n",
    "customers_payment_values[\"sum\"].sort_values().reset_index(drop=True).plot.line()\n",
    "customers_payment_values[\"mean\"].sort_values().reset_index(drop=True).plot.line()\n",
    "customers_payment_values[\"max\"].sort_values().reset_index(drop=True).plot.line()\n",
    "customers_payment_values[\"min\"].sort_values().reset_index(drop=True).plot.line()\n"
   ]
  },
  {
   "attachments": {},
   "cell_type": "markdown",
   "metadata": {},
   "source": [
    "On remarque bien un creux en bas à droite qui nous indique qu'il y a certains très bons clients qui peuvent dépenser beaucoup d'argent.\n",
    "\n",
    "Ce graphique est quasi le même que celui avec la distribution des commandes (sans regrouper par client) car justement la majorité des clients passent 1 seule commande.\n",
    "\n",
    "Pas de variance visible entre `mean`, `min`, `max`, `sum` (encore car la majorité ont 1 seule commande)"
   ]
  },
  {
   "cell_type": "code",
   "execution_count": null,
   "metadata": {},
   "outputs": [],
   "source": [
    "best_customers_orders_payments = customers_orders_payments.customer_unique_id.isin(\n",
    "    number_of_orders[(number_of_orders > 1)].index\n",
    ")\n"
   ]
  },
  {
   "cell_type": "code",
   "execution_count": null,
   "metadata": {},
   "outputs": [],
   "source": [
    "plt.title(\"Sum/Mean/Min/Max payment values for each \\n customer with more than 1 order\")\n",
    "best_customers_payment_values = (\n",
    "    customers_orders_payments.loc[best_customers_orders_payments]\n",
    "    .groupby(\"customer_unique_id\")\n",
    "    .payment_value.agg([\"sum\", \"mean\", min, max])\n",
    "    .reset_index()\n",
    ")\n",
    "best_customers_payment_values[\"sum\"].sort_values().reset_index(drop=True).plot.line()\n",
    "best_customers_payment_values[\"mean\"].sort_values().reset_index(drop=True).plot.line()\n",
    "best_customers_payment_values[\"max\"].sort_values().reset_index(drop=True).plot.line()\n",
    "best_customers_payment_values[\"min\"].sort_values().reset_index(drop=True).plot.line()\n",
    "plt.legend()\n"
   ]
  },
  {
   "attachments": {},
   "cell_type": "markdown",
   "metadata": {},
   "source": [
    "Avec les clients ayant passés plus d'une commande, on voit mieux l'écart que je souhaitais voir avant. Surtout au niveau du creux en bas à droite.\n",
    "\n",
    "Attention, une valeur `x` ne correspond pas à un client !\n",
    "\n",
    "On anayse ici uniquement la croissance de la `sum`, `mean`, `min`, `max`.\n",
    "\n",
    "Regardons les catégories de produit :"
   ]
  },
  {
   "cell_type": "code",
   "execution_count": null,
   "metadata": {},
   "outputs": [],
   "source": [
    "category_names = products.product_category_name.value_counts(normalize=True)\n",
    "others = category_names < 0.02\n",
    "sum_of_others = category_names[others].sum()\n",
    "category_names = category_names[~others]\n",
    "category_names[\"other\"] = sum_of_others\n"
   ]
  },
  {
   "cell_type": "code",
   "execution_count": null,
   "metadata": {},
   "outputs": [],
   "source": [
    "plt.figure(figsize=(16, 6))\n",
    "plt.title(\"Product category distribution trucated by 'others'\")\n",
    "plt.pie(category_names, labels=category_names.index, autopct=\"%1.1f%%\")\n",
    "plt.show()\n"
   ]
  },
  {
   "cell_type": "code",
   "execution_count": null,
   "metadata": {},
   "outputs": [],
   "source": [
    "stop_words = stopwords.words('portuguese')\n",
    "wordcloud = WordCloud(stopwords=stop_words,\n",
    "                      background_color=\"black\", width=1800, height=1200).generate(' '.join(products[\"product_category_name\"].fillna(value=\"\")))\n",
    "fig, ax = plt.subplots(figsize=(20,12))\n",
    "ax.imshow(wordcloud, interpolation='bilinear')\n",
    "ax.set_axis_off()\n",
    "plt.imshow(wordcloud);"
   ]
  },
  {
   "attachments": {},
   "cell_type": "markdown",
   "metadata": {},
   "source": [
    "On peut ici voir la fréquence d'apparition des catégories de produit"
   ]
  },
  {
   "attachments": {},
   "cell_type": "markdown",
   "metadata": {},
   "source": [
    "## RFM\n",
    "\n",
    "### Récence"
   ]
  },
  {
   "cell_type": "code",
   "execution_count": null,
   "metadata": {},
   "outputs": [],
   "source": [
    "order_dates = orders.order_purchase_timestamp.apply(to_datetime)\n",
    "max_order_date = max(order_dates)\n",
    "max_order_date\n"
   ]
  },
  {
   "cell_type": "code",
   "execution_count": null,
   "metadata": {},
   "outputs": [],
   "source": [
    "order_date_diff = (max_order_date - order_dates).map(minutes_f)\n",
    "order_date_diff\n"
   ]
  },
  {
   "cell_type": "code",
   "execution_count": null,
   "metadata": {},
   "outputs": [],
   "source": [
    "orders[\"order_date_lately\"] = order_date_diff\n"
   ]
  },
  {
   "attachments": {},
   "cell_type": "markdown",
   "metadata": {},
   "source": [
    "### Fréquence\n",
    "\n",
    "On a déjà calculé le nombre de fois qu'un client a passé une commande avec la variable `number_of_orders`. \n",
    "\n",
    "Ce qu'on peut faire est donc de calculer la fréquence réelle des commandes faites par un client. On souhaite donc avoir un nombre correspondant au délai entre 2 commandes. Et ensuite on peut prendre la moyenne de ces délais. On peut considérer que s'il n'y a qu'une seule commande (comme c'est le cas le plus souvent), alors le délai est de 0.\n",
    "\n",
    "Cela ne devrait pas être un problème pour le clustering avec certains algorithmes qui pourront reconnaître des groupes entre nos données malgré le fait qu'avec un calcul de distance euclidienne ils soient éloignés. C'est le principe de t-SNE par exemple."
   ]
  },
  {
   "cell_type": "code",
   "execution_count": null,
   "metadata": {},
   "outputs": [],
   "source": [
    "def calculate_diffs(o):\n",
    "    o = o.order_purchase_timestamp.values\n",
    "    if(len(o) == 1):\n",
    "        return 0\n",
    "    time_diffs = pd.Series([])\n",
    "    for i in range(len(o) - 1):\n",
    "        o1 = to_datetime(o[i + 1])\n",
    "        o2 = to_datetime(o[i])\n",
    "        time_diffs[len(time_diffs)] = minutes_f(o1 - o2)\n",
    "\n",
    "    return time_diffs.mean()"
   ]
  },
  {
   "cell_type": "code",
   "execution_count": null,
   "metadata": {},
   "outputs": [],
   "source": [
    "# On va donc ordoner d'abord nos dates de commandes par client\n",
    "F = customer_orders.sort_values(by=\"order_purchase_timestamp\").groupby(by=\"customer_unique_id\").apply(calculate_diffs)\n",
    "F.head()"
   ]
  },
  {
   "attachments": {},
   "cell_type": "markdown",
   "metadata": {},
   "source": [
    "### Montant\n",
    "\n",
    "On a déjà les montants nécessaires pour notre clustering\n",
    "\n",
    "Le plus utile pour moi est le lien entre client/commandes/paiements"
   ]
  },
  {
   "attachments": {},
   "cell_type": "markdown",
   "metadata": {},
   "source": [
    "# Export\n",
    "\n",
    "Je propose donc d'exporter nos données vers un format plus facilement utilisable pour notre clustering"
   ]
  },
  {
   "cell_type": "code",
   "execution_count": null,
   "metadata": {},
   "outputs": [],
   "source": [
    "# On enlève d'abord les commandes qui n'ont pas été livrées\n",
    "orders = orders.set_index(\"order_id\").loc[orders_with_dates.order_id].reset_index()"
   ]
  },
  {
   "cell_type": "code",
   "execution_count": null,
   "metadata": {},
   "outputs": [],
   "source": [
    "big_group = pd.merge(customers, orders, on=\"customer_id\")\n",
    "big_group = big_group.loc[big_group.order_delivered_customer_date.notna() & big_group.delivery_delay.notna()]\n",
    "\n",
    "big_group = pd.merge(big_group, order_payments, on=\"order_id\")"
   ]
  },
  {
   "attachments": {},
   "cell_type": "markdown",
   "metadata": {},
   "source": [
    "Certains clients peuvent habiter dans des quartiers un peu plus chic. On peut donc se dire que la position est importante. Reportons les données de localisation dans notre export"
   ]
  },
  {
   "cell_type": "code",
   "execution_count": null,
   "metadata": {},
   "outputs": [],
   "source": [
    "geolocations = geolocations.groupby(by=\"geolocation_zip_code_prefix\")[[\"geolocation_lat\", \"geolocation_lng\"]].mean()\n",
    "geolocations.head()"
   ]
  },
  {
   "cell_type": "code",
   "execution_count": null,
   "metadata": {},
   "outputs": [],
   "source": [
    "mean = geolocations[[\"geolocation_lat\", \"geolocation_lng\"]].mean()\n",
    "mean"
   ]
  },
  {
   "cell_type": "code",
   "execution_count": null,
   "metadata": {},
   "outputs": [],
   "source": [
    "big_group[[\"lat\", \"lng\"]] = big_group.customer_zip_code_prefix.apply(lambda x: geolocations.loc[x] if (geolocations.index == x).any() else mean)\n",
    "big_group.head()"
   ]
  },
  {
   "cell_type": "code",
   "execution_count": null,
   "metadata": {},
   "outputs": [],
   "source": [
    "big_group.to_csv(processed / \"customers.csv\", index=False)"
   ]
  },
  {
   "attachments": {},
   "cell_type": "markdown",
   "metadata": {},
   "source": [
    "## Client unique\n",
    "\n",
    "On peut directement faire une version avec les clients groupés"
   ]
  },
  {
   "cell_type": "code",
   "execution_count": null,
   "metadata": {},
   "outputs": [],
   "source": [
    "grouped_customer = big_group.groupby(\"customer_unique_id\")\n",
    "unique_customer = grouped_customer[[\"order_date_lately\",\"delivery_delay\", \"estimation_error\"]].mean()\n",
    "unique_customer = unique_customer.rename(columns={'order_date_lately': 'recency'})\n",
    "unique_customer.head()"
   ]
  },
  {
   "cell_type": "code",
   "execution_count": null,
   "metadata": {},
   "outputs": [],
   "source": [
    "unique_customer[\"number_of_orders\"] = grouped_customer.customer_unique_id.count()\n",
    "unique_customer.head()"
   ]
  },
  {
   "attachments": {},
   "cell_type": "markdown",
   "metadata": {},
   "source": [
    "Pour le délai respecté, on peut discrétiser la variable en mettant un ratio du nombre de fois qu'il a été respecté"
   ]
  },
  {
   "cell_type": "code",
   "execution_count": null,
   "metadata": {},
   "outputs": [],
   "source": [
    "unique_customer[\"respected_ratio\"] = (grouped_customer.delay_respected.sum() / unique_customer.number_of_orders)\n",
    "unique_customer.head()"
   ]
  },
  {
   "attachments": {},
   "cell_type": "markdown",
   "metadata": {},
   "source": [
    "On va ajouter les dépenses"
   ]
  },
  {
   "cell_type": "code",
   "execution_count": null,
   "metadata": {},
   "outputs": [],
   "source": [
    "unique_customer[\"amount\"] = grouped_customer.payment_value.sum()\n",
    "unique_customer.head()"
   ]
  },
  {
   "cell_type": "code",
   "execution_count": null,
   "metadata": {},
   "outputs": [],
   "source": [
    "unique_customer[\"respected_ratio\"]"
   ]
  },
  {
   "cell_type": "code",
   "execution_count": null,
   "metadata": {},
   "outputs": [],
   "source": [
    "big_group.head()"
   ]
  },
  {
   "cell_type": "code",
   "execution_count": null,
   "metadata": {},
   "outputs": [],
   "source": [
    "# Un client qui a passé plusieurs commande peut avoir plusieurs lat/lng différentes. On peut prendre la position spaciale la plus fréquente, cela représentera son \"domicile\"\n",
    "# -- La fonction pd.Series.mode renvoit un objet pd.Series\n",
    "unique_customer[[\"lat\", \"lng\"]] = grouped_customer[[\"lat\", \"lng\"]].agg(lambda x: pd.Series.mode(x)[0])"
   ]
  },
  {
   "attachments": {},
   "cell_type": "markdown",
   "metadata": {},
   "source": [
    "On va maintenant intégrer la fréquence de commande par client qui est dans la variable `F`"
   ]
  },
  {
   "cell_type": "code",
   "execution_count": null,
   "metadata": {},
   "outputs": [],
   "source": [
    "unique_customer.shape"
   ]
  },
  {
   "cell_type": "code",
   "execution_count": null,
   "metadata": {},
   "outputs": [],
   "source": [
    "F.shape"
   ]
  },
  {
   "attachments": {},
   "cell_type": "markdown",
   "metadata": {},
   "source": [
    "C'est normal qu'on ai plus de données dans F car on avait supprimé les clients avec les commandes où la livraison était NaN"
   ]
  },
  {
   "cell_type": "code",
   "execution_count": null,
   "metadata": {},
   "outputs": [],
   "source": [
    "unique_customer[\"frequency\"] = unique_customer.index.map(lambda x: F[x])\n",
    "unique_customer.head()"
   ]
  },
  {
   "cell_type": "code",
   "execution_count": null,
   "metadata": {},
   "outputs": [],
   "source": [
    "unique_customer.to_csv(processed / \"unique_customer_orders.csv\", index=False)"
   ]
  },
  {
   "attachments": {},
   "cell_type": "markdown",
   "metadata": {},
   "source": [
    "# Export 2\n",
    "\n",
    "Rajoutons d'autres variables qui pourraient être pertinentes pour notre segmentation.\n",
    "\n",
    "J'ai identifié plusieurs variable :\n",
    "\n",
    "- Reviews (score...)\n",
    "- Variable permettant d'identifier les clients qui payent cher (seuil ?) ce qui permettra de clusturer sur ceux-ci\n",
    "- Type de produit acheté\n",
    "- Frais de livraison"
   ]
  },
  {
   "cell_type": "code",
   "execution_count": null,
   "metadata": {},
   "outputs": [],
   "source": [
    "unique_customer.head()"
   ]
  },
  {
   "cell_type": "code",
   "execution_count": null,
   "metadata": {},
   "outputs": [],
   "source": [
    "order_reviews.head()"
   ]
  },
  {
   "cell_type": "code",
   "execution_count": null,
   "metadata": {},
   "outputs": [],
   "source": [
    "print(big_group.shape)\n",
    "big_group = pd.merge(big_group, order_reviews, on=\"order_id\")\n",
    "big_group.shape"
   ]
  },
  {
   "attachments": {},
   "cell_type": "markdown",
   "metadata": {},
   "source": [
    "On remarque qu'on a perdu quelques clients au passage ! C'est même peut être bon signe. On peut supposer que d'après le nombre d'éléments qu'on a perdu, que pour chaque commande \"valide\", une ligne dans la table \"reviews\" est ajoutée."
   ]
  },
  {
   "cell_type": "code",
   "execution_count": null,
   "metadata": {},
   "outputs": [],
   "source": [
    "big_group.head()"
   ]
  },
  {
   "cell_type": "code",
   "execution_count": null,
   "metadata": {},
   "outputs": [],
   "source": [
    "order_items.head()"
   ]
  },
  {
   "cell_type": "code",
   "execution_count": null,
   "metadata": {},
   "outputs": [],
   "source": [
    "big_group = pd.merge(big_group, order_items, on=\"order_id\")\n",
    "big_group"
   ]
  },
  {
   "cell_type": "code",
   "execution_count": null,
   "metadata": {},
   "outputs": [],
   "source": [
    "big_group.columns"
   ]
  },
  {
   "cell_type": "code",
   "execution_count": null,
   "metadata": {},
   "outputs": [],
   "source": [
    "big_group = pd.merge(big_group, products, on=\"product_id\")\n",
    "big_group"
   ]
  },
  {
   "attachments": {},
   "cell_type": "markdown",
   "metadata": {},
   "source": [
    "## Préparation pour client uniques\n",
    "\n",
    "On va d'abord retirer les clients qui ont disparu lors de merge avec la tablea de reviews\n",
    "\n",
    "On va également retirer les produits commandés qui n'ont pas de catégorie (cela peut entraîner la perte d'un client si tous les produits achetés par le client n'ont pas de catégorie)"
   ]
  },
  {
   "cell_type": "code",
   "execution_count": null,
   "metadata": {},
   "outputs": [],
   "source": [
    "big_group = big_group[big_group.product_category_name.notna()]"
   ]
  },
  {
   "cell_type": "code",
   "execution_count": null,
   "metadata": {},
   "outputs": [],
   "source": [
    "unique_customer = unique_customer.loc[big_group.customer_unique_id.unique()]\n",
    "unique_customer.head()"
   ]
  },
  {
   "cell_type": "code",
   "execution_count": null,
   "metadata": {},
   "outputs": [],
   "source": [
    "unique_customer.shape"
   ]
  },
  {
   "cell_type": "code",
   "execution_count": null,
   "metadata": {},
   "outputs": [],
   "source": [
    "# Trier par index pour être sûr de matcher les lignes avec notre groupby\n",
    "unique_customer = unique_customer.sort_index()"
   ]
  },
  {
   "cell_type": "code",
   "execution_count": null,
   "metadata": {},
   "outputs": [],
   "source": [
    "# On regroupe encore une fois sur les clients uniques\n",
    "grouped_customer = big_group.groupby(\"customer_unique_id\")"
   ]
  },
  {
   "cell_type": "code",
   "execution_count": null,
   "metadata": {},
   "outputs": [],
   "source": [
    "mean_features = [\"freight_value\", \"price\", \"review_answer_delay\", \"review_score\", \"review_level\"]\n",
    "unique_customer[mean_features] = grouped_customer[mean_features].mean()\n",
    "unique_customer.head()"
   ]
  },
  {
   "cell_type": "code",
   "execution_count": null,
   "metadata": {},
   "outputs": [],
   "source": [
    "# Si le client a beaucoup depensé ou non. On prendra sur la somme des montant dépensés sinon on client qui dépense beaucoup mais étalé sur plusieurs articles ne sera pas considéré comme \"wealthy\"\n",
    "# On dira que si le client a depensé plus de 500€ est considéré \"wealthy\"\n",
    "unique_customer[\"wealthy\"] = grouped_customer[\"price\"].sum() > 500\n",
    "plt.title(\"Number of wealthy people (amount > 500)\")\n",
    "unique_customer[\"wealthy\"].value_counts().plot.pie(autopct=\"%1.1f%%\");"
   ]
  },
  {
   "cell_type": "code",
   "execution_count": null,
   "metadata": {},
   "outputs": [],
   "source": [
    "unique_customer[\"frequent_cat\"] = grouped_customer.product_category_name.agg(lambda x: pd.Series.mode(x)[0])\n",
    "unique_customer.head()"
   ]
  },
  {
   "cell_type": "code",
   "execution_count": null,
   "metadata": {},
   "outputs": [],
   "source": [
    "unique_customer.to_csv(processed / \"unique_customer_orders2.csv\", index=False)"
   ]
  },
  {
   "attachments": {},
   "cell_type": "markdown",
   "metadata": {},
   "source": [
    "# Export 3\n",
    "\n",
    "Je vais utiliser une technique que j'ai vu sur beaucoup de notebooks pour créer des catégories RFM. J'aimerais bien voir mes clusters avec une coloration en fonction de ces catégories.\n",
    "\n",
    "- https://www.kaggle.com/code/alpamys/rfm-cohort-analysis?scriptVersionId=55611195&cellId=31\n",
    "- https://www.kaggle.com/code/ceruttivini/rfm-segmentation-and-customer-analysis?scriptVersionId=96558102&cellId=77\n",
    "\n",
    "Voici ce qu'on y retrouve :\n",
    "\n",
    "___\n",
    "1. CORE - '123' - most recent, frequent, revenue generating - core customers that should be considered as most valuable clients\n",
    "2. GONE - '311', '312', '313' - gone, one-timers - those clients are probably gone;\n",
    "3. ROOKIE - '111', '112', '113' - just have joined - new clients that have joined recently\n",
    "4. WHALES - '323', '213', '223 - most revenue generating - whales that generate revenue\n",
    "5. LOYAL - '221', '222', '321', '322' - loyal users\n",
    "6. REGULAR - '121', '122', '211', '212', - average users - just regular customers that don't stand out\n",
    "___\n",
    "\n",
    "Traduit respectivement en :\n",
    "\n",
    "- Essentiel\n",
    "- Parti\n",
    "- Nouveau\n",
    "- Rentable\n",
    "- Loyal\n",
    "- Régulier"
   ]
  },
  {
   "cell_type": "code",
   "execution_count": null,
   "metadata": {},
   "outputs": [],
   "source": [
    "# Fonction récupérée sur le premier kaggle\n",
    "def segment(x):\n",
    "    if x == '123':\n",
    "        return 'Essentiel'\n",
    "    elif x in ['311', '312', '313']:\n",
    "        return 'Parti'\n",
    "    elif x in ['111', '112', '113']:\n",
    "        return 'Nouveau'\n",
    "    elif x in ['323', '213', '223']:\n",
    "        return 'Rentable'\n",
    "    elif x in ['221', '222', '321', '322']:\n",
    "        return 'Loyal'\n",
    "    else:\n",
    "        return 'Régulier'"
   ]
  },
  {
   "cell_type": "code",
   "execution_count": null,
   "metadata": {},
   "outputs": [],
   "source": [
    "unique_customer[\"R\"] = pd.qcut(unique_customer['recency'], 3, labels=[1, 2, 3]).astype(str)\n",
    "# Les fréquences sont trop inéquilibrées\n",
    "unique_customer[\"F\"] = unique_customer['number_of_orders'].apply(lambda x: '1' if x==1 else '2')\n",
    "unique_customer[\"M\"] = pd.qcut(unique_customer['amount'], 3, labels=[1, 2, 3]).astype(str)\n",
    "\n",
    "unique_customer[\"RFM\"] = unique_customer[[\"R\", \"F\", \"M\"]].apply(''.join, axis=1)\n",
    "unique_customer.head()"
   ]
  },
  {
   "cell_type": "code",
   "execution_count": null,
   "metadata": {},
   "outputs": [],
   "source": [
    "unique_customer[\"segment\"] = unique_customer[\"RFM\"].apply(segment)\n",
    "unique_customer.head()"
   ]
  },
  {
   "cell_type": "code",
   "execution_count": null,
   "metadata": {},
   "outputs": [],
   "source": [
    "unique_customer.reset_index().to_csv(processed / \"unique_customer_orders3.csv\", index=False)"
   ]
  }
 ],
 "metadata": {
  "kernelspec": {
   "display_name": "oc",
   "language": "python",
   "name": "python3"
  },
  "language_info": {
   "codemirror_mode": {
    "name": "ipython",
    "version": 3
   },
   "file_extension": ".py",
   "mimetype": "text/x-python",
   "name": "python",
   "nbconvert_exporter": "python",
   "pygments_lexer": "ipython3",
   "version": "3.9.16"
  },
  "orig_nbformat": 4
 },
 "nbformat": 4,
 "nbformat_minor": 2
}
